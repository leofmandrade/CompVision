{
 "cells": [
  {
   "cell_type": "code",
   "execution_count": 3,
   "metadata": {},
   "outputs": [],
   "source": [
    "import cv2\n",
    "import numpy as np\n",
    "import requests\n",
    "import os\n",
    "import sys\n",
    "import pytesseract\n",
    "import easyocr\n"
   ]
  },
  {
   "cell_type": "code",
   "execution_count": 5,
   "metadata": {},
   "outputs": [
    {
     "name": "stdout",
     "output_type": "stream",
     "text": [
      "reshaped\n"
     ]
    },
    {
     "ename": "error",
     "evalue": "OpenCV(4.9.0) D:\\a\\opencv-python\\opencv-python\\opencv\\modules\\highgui\\src\\window.cpp:1272: error: (-2:Unspecified error) The function is not implemented. Rebuild the library with Windows, GTK+ 2.x or Cocoa support. If you are on Ubuntu or Debian, install libgtk2.0-dev and pkg-config, then re-run cmake or configure script in function 'cvShowImage'\n",
     "output_type": "error",
     "traceback": [
      "\u001b[1;31m---------------------------------------------------------------------------\u001b[0m",
      "\u001b[1;31merror\u001b[0m                                     Traceback (most recent call last)",
      "\u001b[1;32m~\\AppData\\Local\\Temp/ipykernel_11320/2199924047.py\u001b[0m in \u001b[0;36m<module>\u001b[1;34m\u001b[0m\n\u001b[0;32m    100\u001b[0m \u001b[1;33m\u001b[0m\u001b[0m\n\u001b[0;32m    101\u001b[0m \u001b[1;33m\u001b[0m\u001b[0m\n\u001b[1;32m--> 102\u001b[1;33m \u001b[0mcv2\u001b[0m\u001b[1;33m.\u001b[0m\u001b[0mimshow\u001b[0m\u001b[1;33m(\u001b[0m\u001b[1;34m'Game Scene'\u001b[0m\u001b[1;33m,\u001b[0m \u001b[0mimage\u001b[0m\u001b[1;33m)\u001b[0m\u001b[1;33m\u001b[0m\u001b[1;33m\u001b[0m\u001b[0m\n\u001b[0m\u001b[0;32m    103\u001b[0m \u001b[0mcv2\u001b[0m\u001b[1;33m.\u001b[0m\u001b[0mwaitKey\u001b[0m\u001b[1;33m(\u001b[0m\u001b[1;36m0\u001b[0m\u001b[1;33m)\u001b[0m  \u001b[1;31m# Wait indefinitely for a key press\u001b[0m\u001b[1;33m\u001b[0m\u001b[1;33m\u001b[0m\u001b[0m\n\u001b[0;32m    104\u001b[0m \u001b[0mcv2\u001b[0m\u001b[1;33m.\u001b[0m\u001b[0mdestroyAllWindows\u001b[0m\u001b[1;33m(\u001b[0m\u001b[1;33m)\u001b[0m  \u001b[1;31m# Close all OpenCV windows\u001b[0m\u001b[1;33m\u001b[0m\u001b[1;33m\u001b[0m\u001b[0m\n",
      "\u001b[1;31merror\u001b[0m: OpenCV(4.9.0) D:\\a\\opencv-python\\opencv-python\\opencv\\modules\\highgui\\src\\window.cpp:1272: error: (-2:Unspecified error) The function is not implemented. Rebuild the library with Windows, GTK+ 2.x or Cocoa support. If you are on Ubuntu or Debian, install libgtk2.0-dev and pkg-config, then re-run cmake or configure script in function 'cvShowImage'\n"
     ]
    }
   ],
   "source": [
    "import ctypes\n",
    "\n",
    "# Get the screen resolution\n",
    "user32 = ctypes.windll.user32\n",
    "screen_width = user32.GetSystemMetrics(0)\n",
    "screen_height = user32.GetSystemMetrics(1)\n",
    "\n",
    "gameScene = 'img3.jpg'\n",
    "image = cv2.imread(gameScene)\n",
    "\n",
    "\n",
    "if image is not None:\n",
    "    # Resize the image to match the screen resolution\n",
    "    image = cv2.resize(image, (1300, 700))\n",
    "    print (\"reshaped\")\n",
    "else:\n",
    "    print(\"Error: Unable to load image\")\n",
    "\n",
    "widthChampionPic, heightChampionPic = 50, 48\n",
    "color = (0, 0, 255)\n",
    "xChampion1, yChampion1 = 0, 98\n",
    "cv2.rectangle(image, (xChampion1, yChampion1), (xChampion1 + widthChampionPic, yChampion1 + heightChampionPic), color, 2)\n",
    "\n",
    "xChampion2, yChampion2 = 0, 165\n",
    "cv2.rectangle(image, (xChampion2, yChampion2), (xChampion2 + widthChampionPic, yChampion2 + heightChampionPic), color, 2)\n",
    "\n",
    "xChampion3, yChampion3 = 0, 234\n",
    "cv2.rectangle(image, (xChampion3, yChampion3), (xChampion3 + widthChampionPic, yChampion3 + heightChampionPic), color, 2)\n",
    "\n",
    "xChampion4, yChampion4 = 0, 300\n",
    "cv2.rectangle(image, (xChampion4, yChampion4), (xChampion4 + widthChampionPic, yChampion4 + heightChampionPic), color, 2)\n",
    "\n",
    "xChampion5, yChampion5 = 0, 365\n",
    "cv2.rectangle(image, (xChampion5, yChampion5), (xChampion5 + widthChampionPic, yChampion5 + heightChampionPic), color, 2)\n",
    "\n",
    "xChampion6, yChampion6 = 1250, 98\n",
    "cv2.rectangle(image, (xChampion6, yChampion6), (xChampion6 + widthChampionPic, yChampion6 + heightChampionPic), color, 2)\n",
    "\n",
    "xChampion7, yChampion7 = 1250, 165\n",
    "cv2.rectangle(image, (xChampion7, yChampion7), (xChampion7 + widthChampionPic, yChampion7 + heightChampionPic), color, 2)\n",
    "\n",
    "xChampion8, yChampion8 = 1250, 232\n",
    "cv2.rectangle(image, (xChampion8, yChampion8), (xChampion8 + widthChampionPic, yChampion8 + heightChampionPic), color, 2)\n",
    "\n",
    "xChampion9, yChampion9 = 1250, 300\n",
    "cv2.rectangle(image, (xChampion9, yChampion9), (xChampion9 + widthChampionPic, yChampion9 + heightChampionPic), color, 2)\n",
    "\n",
    "xChampion10, yChampion10 = 1250, 365    \n",
    "cv2.rectangle(image, (xChampion10, yChampion10), (xChampion10 + widthChampionPic, yChampion10 + heightChampionPic), color, 2)\n",
    "\n",
    "\n",
    "\n",
    "\n",
    "\n",
    "hudInferiorHeight, hudInferiorWidth = 145, 500\n",
    "color = (255, 0, 160)\n",
    "xHudInferior, yHudInferior = 405, 550\n",
    "cv2.rectangle(image, (xHudInferior, yHudInferior), (xHudInferior + hudInferiorWidth, yHudInferior + hudInferiorHeight), color, 2)\n",
    "\n",
    "\n",
    "widthChampionHud, heightChampionHud = 240, 25\n",
    "color = (150, 20, 200)\n",
    "xChampionHud1, yChampionHud1 = 410, 555\n",
    "cv2.rectangle(image, (xChampionHud1, yChampionHud1), (xChampionHud1 + widthChampionHud, yChampionHud1 + heightChampionHud), color, 2)\n",
    "\n",
    "xChampionHud2, yChampionHud2 = 410, 585\n",
    "cv2.rectangle(image, (xChampionHud2, yChampionHud2), (xChampionHud2 + widthChampionHud, yChampionHud2 + heightChampionHud), color, 2)\n",
    "\n",
    "xChampionHud3, yChampionHud3 = 410, 612\n",
    "cv2.rectangle(image, (xChampionHud3, yChampionHud3), (xChampionHud3 + widthChampionHud, yChampionHud3 + heightChampionHud), color, 2)\n",
    "\n",
    "xChampionHud4, yChampionHud4 = 410, 640\n",
    "cv2.rectangle(image, (xChampionHud4, yChampionHud4), (xChampionHud4 + widthChampionHud, yChampionHud4 + heightChampionHud), color, 2)\n",
    "\n",
    "xChampionHud5, yChampionHud5 = 410, 670\n",
    "cv2.rectangle(image, (xChampionHud5, yChampionHud5), (xChampionHud5 + widthChampionHud, yChampionHud5 + heightChampionHud), color, 2)\n",
    "\n",
    "xChampionHud6, yChampionHud6 = 660, 555\n",
    "cv2.rectangle(image, (xChampionHud6, yChampionHud6), (xChampionHud6 + widthChampionHud, yChampionHud6 + heightChampionHud), color, 2)\n",
    "\n",
    "xChampionHud7, yChampionHud7 = 660, 585\n",
    "cv2.rectangle(image, (xChampionHud7, yChampionHud7), (xChampionHud7 + widthChampionHud, yChampionHud7 + heightChampionHud), color, 2)\n",
    "\n",
    "xChampionHud8, yChampionHud8 = 660, 612\n",
    "cv2.rectangle(image, (xChampionHud8, yChampionHud8), (xChampionHud8 + widthChampionHud, yChampionHud8 + heightChampionHud), color, 2)\n",
    "\n",
    "xChampionHud9, yChampionHud9 = 660, 640\n",
    "cv2.rectangle(image, (xChampionHud9, yChampionHud9), (xChampionHud9 + widthChampionHud, yChampionHud9 + heightChampionHud), color, 2)\n",
    "\n",
    "xChampionHud10, yChampionHud10 = 660, 670\n",
    "cv2.rectangle(image, (xChampionHud10, yChampionHud10), (xChampionHud10 + widthChampionHud, yChampionHud10 + heightChampionHud), color, 2)\n",
    "\n",
    "\n",
    "\n",
    "\n",
    "widthMap, heightMap = 180, 177\n",
    "color = (150, 20, 200)\n",
    "xMap, yMap = 1115, 520\n",
    "cv2.rectangle(image, (xMap, yMap), (xMap + widthMap, yMap + heightMap), color, 2)\n",
    "\n",
    "\n",
    "cv2.imshow('Game Scene', image)\n",
    "cv2.waitKey(0)  # Wait indefinitely for a key press\n",
    "cv2.destroyAllWindows()  # Close all OpenCV windows"
   ]
  },
  {
   "cell_type": "code",
   "execution_count": null,
   "metadata": {},
   "outputs": [
    {
     "ename": "",
     "evalue": "",
     "output_type": "error",
     "traceback": [
      "\u001b[1;31mRunning cells with 'Python 3.10.11' requires the ipykernel package.\n",
      "\u001b[1;31mRun the following command to install 'ipykernel' into the Python environment. \n",
      "\u001b[1;31mCommand: 'c:/Users/caiog/AppData/Local/Microsoft/WindowsApps/python3.10.exe -m pip install ipykernel -U --user --force-reinstall'"
     ]
    }
   ],
   "source": [
    "# Função para recortar e salvar a região delimitada\n",
    "def save_region(image, x, y, width, height, filename):\n",
    "    region = image[y:y+height, x:x+width]\n",
    "    cv2.imwrite(filename, region)"
   ]
  },
  {
   "cell_type": "code",
   "execution_count": null,
   "metadata": {},
   "outputs": [
    {
     "ename": "",
     "evalue": "",
     "output_type": "error",
     "traceback": [
      "\u001b[1;31mRunning cells with 'Python 3.10.11' requires the ipykernel package.\n",
      "\u001b[1;31mRun the following command to install 'ipykernel' into the Python environment. \n",
      "\u001b[1;31mCommand: 'c:/Users/caiog/AppData/Local/Microsoft/WindowsApps/python3.10.exe -m pip install ipykernel -U --user --force-reinstall'"
     ]
    }
   ],
   "source": [
    "save_region(image, xChampion1, yChampion1, widthChampionPic, heightChampionPic, 'champions/champion1.jpg')\n",
    "save_region(image, xChampion2, yChampion2, widthChampionPic, heightChampionPic, 'champions/champion2.jpg')\n",
    "save_region(image, xChampion3, yChampion3, widthChampionPic, heightChampionPic, 'champions/champion3.jpg')\n",
    "save_region(image, xChampion4, yChampion4, widthChampionPic, heightChampionPic, 'champions/champion4.jpg')\n",
    "save_region(image, xChampion5, yChampion5, widthChampionPic, heightChampionPic, 'champions/champion5.jpg')\n",
    "save_region(image, xChampion6, yChampion6, widthChampionPic, heightChampionPic, 'champions/champion6.jpg')\n",
    "save_region(image, xChampion7, yChampion7, widthChampionPic, heightChampionPic, 'champions/champion7.jpg')\n",
    "save_region(image, xChampion8, yChampion8, widthChampionPic, heightChampionPic, 'champions/champion8.jpg')\n",
    "save_region(image, xChampion9, yChampion9, widthChampionPic, heightChampionPic, 'champions/champion9.jpg')\n",
    "save_region(image, xChampion10, yChampion10, widthChampionPic, heightChampionPic, 'champions/champion10.jpg')\n",
    "save_region(image, xHudInferior, yHudInferior, hudInferiorWidth, hudInferiorHeight, 'hud/hud_inferior.jpg')\n",
    "save_region(image, xChampionHud1, yChampionHud1, widthChampionHud, heightChampionHud, 'hud/champion_hud1.jpg')\n",
    "save_region(image, xChampionHud2, yChampionHud2, widthChampionHud, heightChampionHud, 'hud/champion_hud2.jpg')\n",
    "save_region(image, xChampionHud3, yChampionHud3, widthChampionHud, heightChampionHud, 'hud/champion_hud3.jpg')\n",
    "save_region(image, xChampionHud4, yChampionHud4, widthChampionHud, heightChampionHud, 'hud/champion_hud4.jpg')\n",
    "save_region(image, xChampionHud5, yChampionHud5, widthChampionHud, heightChampionHud, 'hud/champion_hud5.jpg')\n",
    "save_region(image, xChampionHud6, yChampionHud6, widthChampionHud, heightChampionHud, 'hud/champion_hud6.jpg')\n",
    "save_region(image, xChampionHud7, yChampionHud7, widthChampionHud, heightChampionHud, 'hud/champion_hud7.jpg')\n",
    "save_region(image, xChampionHud8, yChampionHud8, widthChampionHud, heightChampionHud, 'hud/champion_hud8.jpg')\n",
    "save_region(image, xChampionHud9, yChampionHud9, widthChampionHud, heightChampionHud, 'hud/champion_hud9.jpg')\n",
    "save_region(image, xChampionHud10, yChampionHud10, widthChampionHud, heightChampionHud, 'hud/champion_hud10.jpg')\n",
    "save_region(image, xMap, yMap, widthMap, heightMap, 'map/map.jpg')"
   ]
  },
  {
   "cell_type": "code",
   "execution_count": null,
   "metadata": {},
   "outputs": [
    {
     "ename": "",
     "evalue": "",
     "output_type": "error",
     "traceback": [
      "\u001b[1;31mRunning cells with 'Python 3.10.11' requires the ipykernel package.\n",
      "\u001b[1;31mRun the following command to install 'ipykernel' into the Python environment. \n",
      "\u001b[1;31mCommand: 'c:/Users/caiog/AppData/Local/Microsoft/WindowsApps/python3.10.exe -m pip install ipykernel -U --user --force-reinstall'"
     ]
    }
   ],
   "source": [
    "# Função para carregar ícones da pasta\n",
    "def load_icons(icon_folder):\n",
    "    icons = {}\n",
    "    for filename in os.listdir(icon_folder):\n",
    "        character_name = filename.split('.')[0]\n",
    "        icon_path = os.path.join(icon_folder, filename)\n",
    "        icon = cv2.imread(icon_path, cv2.IMREAD_GRAYSCALE)\n",
    "        icons[character_name] = icon\n",
    "    return icons"
   ]
  },
  {
   "cell_type": "code",
   "execution_count": null,
   "metadata": {},
   "outputs": [
    {
     "ename": "",
     "evalue": "",
     "output_type": "error",
     "traceback": [
      "\u001b[1;31mRunning cells with 'Python 3.10.11' requires the ipykernel package.\n",
      "\u001b[1;31mRun the following command to install 'ipykernel' into the Python environment. \n",
      "\u001b[1;31mCommand: 'c:/Users/caiog/AppData/Local/Microsoft/WindowsApps/python3.10.exe -m pip install ipykernel -U --user --force-reinstall'"
     ]
    }
   ],
   "source": [
    "import cv2\n",
    "import numpy as np\n",
    "\n",
    "def match_icons(reference_icon, icons, threshold=500, ratio_threshold=0.7):\n",
    "    brisk = cv2.BRISK_create()\n",
    "\n",
    "    # Verificar se a imagem de referência é válida\n",
    "    if reference_icon is None or reference_icon.size == 0:\n",
    "        print(\"Erro: A imagem de referência está vazia ou não pôde ser carregada.\")\n",
    "        return []\n",
    "\n",
    "    kp1, des1 = brisk.detectAndCompute(reference_icon, None)\n",
    "\n",
    "    matches = {}\n",
    "    for character_name, icon in icons.items():\n",
    "        # Verificar se o ícone é válido\n",
    "        if icon is None or icon.size == 0:\n",
    "            print(f\"Erro: O ícone '{character_name}' está vazio ou não pôde ser carregado.\")\n",
    "            continue\n",
    "\n",
    "        kp2, des2 = brisk.detectAndCompute(icon, None)\n",
    "\n",
    "        # Verificar se os descritores foram extraídos corretamente\n",
    "        if des1 is None or des2 is None:\n",
    "            print(f\"Erro: Descritores não foram extraídos para o ícone '{character_name}'.\")\n",
    "            continue\n",
    "        \n",
    "        # Verificar se os descritores são do mesmo tipo de dados\n",
    "        if des1.dtype != des2.dtype:\n",
    "            print(\"Erro: Os tipos de dados dos descritores não correspondem.\")\n",
    "            continue\n",
    "\n",
    "        bf = cv2.BFMatcher(cv2.NORM_HAMMING, crossCheck=False)\n",
    "        matches_raw = bf.knnMatch(des1, des2, k=2)  # Encontra as 2 melhores correspondências para cada descritor\n",
    "        \n",
    "        good_matches = []\n",
    "        for match in matches_raw:\n",
    "            if len(match) == 2:  # Verifica se há duas correspondências\n",
    "                m, n = match\n",
    "                if m.distance < ratio_threshold * n.distance:\n",
    "                    good_matches.append(m)\n",
    "\n",
    "        matches[character_name] = good_matches\n",
    "\n",
    "    # Limitar o número máximo de correspondências a 10\n",
    "    filtered_matches = {k: len(matches[k]) for k in matches if len(matches[k]) < threshold}\n",
    "    sorted_matches = sorted(filtered_matches.items(), key=lambda x: x[1])[:200]\n",
    "    return sorted_matches\n"
   ]
  },
  {
   "cell_type": "code",
   "execution_count": null,
   "metadata": {},
   "outputs": [
    {
     "ename": "",
     "evalue": "",
     "output_type": "error",
     "traceback": [
      "\u001b[1;31mRunning cells with 'Python 3.10.11' requires the ipykernel package.\n",
      "\u001b[1;31mRun the following command to install 'ipykernel' into the Python environment. \n",
      "\u001b[1;31mCommand: 'c:/Users/caiog/AppData/Local/Microsoft/WindowsApps/python3.10.exe -m pip install ipykernel -U --user --force-reinstall'"
     ]
    }
   ],
   "source": [
    "#carregar imagem de referencia\n",
    "# Caminho para a pasta contendo as imagens dos campeões\n",
    "caminho_pasta = \"champions\"\n",
    "\n",
    "# Lista os arquivos na pasta\n",
    "lista_arquivos = os.listdir(caminho_pasta)\n",
    "\n",
    "# Itera sobre os arquivos na pasta\n",
    "for arquivo in lista_arquivos:\n",
    "    # Verifica se o arquivo é uma imagem (possui uma extensão de imagem)\n",
    "    if arquivo.endswith(\".jpg\"):\n",
    "        # Caminho completo para a imagem\n",
    "        caminho_imagem = os.path.join(caminho_pasta, arquivo)\n",
    "        \n",
    "        # Carrega a imagem usando OpenCV\n",
    "        imagem = cv2.imread(caminho_imagem)\n",
    "        \n",
    "        # Exibe a imagem\n",
    "        cv2.imshow('Champion', imagem)\n",
    "        \n",
    "        # Espera uma tecla ser pressionada para avançar para a próxima imagem\n",
    "        cv2.waitKey(0)\n",
    "\n",
    "# Fecha todas as janelas após terminar\n",
    "cv2.destroyAllWindows()"
   ]
  },
  {
   "cell_type": "code",
   "execution_count": null,
   "metadata": {},
   "outputs": [
    {
     "ename": "",
     "evalue": "",
     "output_type": "error",
     "traceback": [
      "\u001b[1;31mRunning cells with 'Python 3.10.11' requires the ipykernel package.\n",
      "\u001b[1;31mRun the following command to install 'ipykernel' into the Python environment. \n",
      "\u001b[1;31mCommand: 'c:/Users/caiog/AppData/Local/Microsoft/WindowsApps/python3.10.exe -m pip install ipykernel -U --user --force-reinstall'"
     ]
    }
   ],
   "source": [
    "icon_folder = 'championIcons'\n",
    "icons = load_icons(icon_folder)\n",
    "\n",
    "# Ícone de referência\n",
    "reference_icon = cv2.imread('champions/champion1.jpg', cv2.IMREAD_COLOR)"
   ]
  },
  {
   "cell_type": "code",
   "execution_count": null,
   "metadata": {},
   "outputs": [
    {
     "ename": "",
     "evalue": "",
     "output_type": "error",
     "traceback": [
      "\u001b[1;31mRunning cells with 'Python 3.10.11' requires the ipykernel package.\n",
      "\u001b[1;31mRun the following command to install 'ipykernel' into the Python environment. \n",
      "\u001b[1;31mCommand: 'c:/Users/caiog/AppData/Local/Microsoft/WindowsApps/python3.10.exe -m pip install ipykernel -U --user --force-reinstall'"
     ]
    }
   ],
   "source": [
    "# Realizar correspondência entre o ícone de referência e os ícones da pasta\n",
    "matches = match_icons(reference_icon, icons)\n",
    "\n",
    "# Exibir os resultados das correspondências\n",
    "# Exibir os resultados das correspondências\n",
    "for match in matches:\n",
    "    if match[1] > 0:\n",
    "        print(\"Ícone:\", match[0], \" - Matches:\", match[1])"
   ]
  },
  {
   "cell_type": "code",
   "execution_count": null,
   "metadata": {},
   "outputs": [
    {
     "ename": "",
     "evalue": "",
     "output_type": "error",
     "traceback": [
      "\u001b[1;31mRunning cells with 'Python 3.10.11' requires the ipykernel package.\n",
      "\u001b[1;31mRun the following command to install 'ipykernel' into the Python environment. \n",
      "\u001b[1;31mCommand: 'c:/Users/caiog/AppData/Local/Microsoft/WindowsApps/python3.10.exe -m pip install ipykernel -U --user --force-reinstall'"
     ]
    }
   ],
   "source": [
    "# Define coordinates and dimensions for gold rectangles\n",
    "xGold1, yGold1 = 750, 10\n",
    "widthGold, heightGold =34, 13\n",
    "gold_roi1 = image[yGold1:yGold1+heightGold, xGold1:xGold1+widthGold]\n",
    "cv2.imwrite('topbar/gold_roi1.jpg', gold_roi1)\n",
    "\n",
    "\n",
    "#get gold_roi2\n",
    "xGold2, yGold2 = 545, 10\n",
    "gold_roi2 = image[yGold2:yGold2+heightGold, xGold2:xGold2+widthGold]\n",
    "cv2.imwrite('topbar/gold_roi2.jpg', gold_roi2) \n",
    "\n",
    "\n",
    "#get towers1\n",
    "xTowers1, yTowers1 = 795, 12\n",
    "widthTowers, heightTowers = 25, 13\n",
    "towers1 = image[yTowers1:yTowers1+heightTowers, xTowers1:xTowers1+widthTowers]\n",
    "cv2.imwrite('topbar/towers1.jpg', towers1)\n",
    "\n",
    "#get towers2\n",
    "xTowers2, yTowers2 = 500, 12\n",
    "towers2 = image[yTowers2:yTowers2+heightTowers, xTowers2:xTowers2+widthTowers]\n",
    "cv2.imwrite('topbar/towers2.jpg', towers2)\n",
    "\n",
    "#get dragons 1\n",
    "xDragons1, yDragons1 = 950, 12\n",
    "widthDragons, heightDragons = 25, 13\n",
    "dragons1 = image[yDragons1:yDragons1+heightDragons, xDragons1:xDragons1+widthDragons]\n",
    "cv2.imwrite('topbar/dragons1.jpg', dragons1)\n",
    "\n",
    "#get dragons 2\n",
    "xDragons2, yDragons2 = 350, 12\n",
    "dragons2 = image[yDragons2:yDragons2+heightDragons, xDragons2:xDragons2+widthDragons]\n",
    "cv2.imwrite('topbar/dragons2.jpg', dragons2)\n",
    "\n",
    "#get baron 1\n",
    "\n",
    "xBaron1, yBaron1 = 1000, 12\n",
    "widthBaron, heightBaron = 50, 13\n",
    "baron1 = image[yBaron1:yBaron1+heightBaron, xBaron1:xBaron1+widthBaron]\n",
    "cv2.imwrite('topbar/baron1.jpg', baron1)\n",
    "\n",
    "\n"
   ]
  },
  {
   "cell_type": "code",
   "execution_count": null,
   "metadata": {},
   "outputs": [
    {
     "ename": "",
     "evalue": "",
     "output_type": "error",
     "traceback": [
      "\u001b[1;31mRunning cells with 'Python 3.10.11' requires the ipykernel package.\n",
      "\u001b[1;31mRun the following command to install 'ipykernel' into the Python environment. \n",
      "\u001b[1;31mCommand: 'c:/Users/caiog/AppData/Local/Microsoft/WindowsApps/python3.10.exe -m pip install ipykernel -U --user --force-reinstall'"
     ]
    }
   ],
   "source": [
    "def image_processing(image):\n",
    "    image = image.astype(np.float32) / 255.0\n",
    "    # Increase the contrast of the image\n",
    "    image = cv2.pow(image, 1.2)\n",
    "    # Clip values to the range [0, 1]\n",
    "    image = np.clip(image, 0, 1)\n",
    "    # Convert back to 8-bits\n",
    "    image = (255 * image).astype(np.uint8)\n",
    "    image = cv2.resize(image, None, fx=10, fy=10, interpolation=cv2.INTER_CUBIC)\n",
    "    #raise brightness\n",
    "    image = cv2.convertScaleAbs(image, alpha=1.5, beta=0)\n",
    "\n",
    "    gray = cv2.cvtColor(image, cv2.COLOR_BGR2GRAY)\n",
    "    _, binary = cv2.threshold(gray, 85, 255, cv2.THRESH_BINARY)\n",
    "    return binary"
   ]
  },
  {
   "cell_type": "code",
   "execution_count": null,
   "metadata": {},
   "outputs": [
    {
     "ename": "",
     "evalue": "",
     "output_type": "error",
     "traceback": [
      "\u001b[1;31mRunning cells with 'Python 3.10.11' requires the ipykernel package.\n",
      "\u001b[1;31mRun the following command to install 'ipykernel' into the Python environment. \n",
      "\u001b[1;31mCommand: 'c:/Users/caiog/AppData/Local/Microsoft/WindowsApps/python3.10.exe -m pip install ipykernel -U --user --force-reinstall'"
     ]
    }
   ],
   "source": [
    "gold_roi1 = cv2.imread('topbar/gold_roi1.jpg')\n",
    "\n",
    "binary_gold_roi1 = image_processing(gold_roi1)\n",
    "\n",
    "cv2.imwrite('topbar/gold_roi1_processed.jpg', binary_gold_roi1)\n",
    "\n",
    "\n",
    "gold_roi2 = cv2.imread('topbar/gold_roi2.jpg')\n",
    "\n",
    "binary_gold_roi2 = image_processing(gold_roi2)\n",
    "\n",
    "cv2.imwrite('topbar/gold_roi2_processed.jpg', binary_gold_roi2)\n",
    "\n",
    "\n",
    "towers1 = cv2.imread('topbar/towers1.jpg')\n",
    "\n",
    "binary_towers1 = image_processing(towers1)\n",
    "\n",
    "cv2.imwrite('topbar/towers1_processed.jpg', binary_towers1)\n",
    "\n",
    "\n",
    "towers2 = cv2.imread('topbar/towers2.jpg')\n",
    "\n",
    "binary_towers2 = image_processing(towers2)\n",
    "\n",
    "cv2.imwrite('topbar/towers2_processed.jpg', binary_towers2)\n",
    "\n",
    "dragons1 = cv2.imread('topbar/dragons1.jpg')\n",
    "\n",
    "binary_dragons1 = image_processing(dragons1)\n",
    "\n",
    "cv2.imwrite('topbar/dragons1_processed.jpg', binary_dragons1)\n",
    "\n",
    "dragons2 = cv2.imread('topbar/dragons2.jpg')\n",
    "\n",
    "binary_dragons2 = image_processing(dragons2)\n",
    "\n",
    "cv2.imwrite('topbar/dragons2_processed.jpg', binary_dragons2)\n",
    "\n",
    "\n",
    "# Display the processed image\n",
    "cv2.imshow('Processed Gold ROI 1', binary_gold_roi1)\n",
    "cv2.imshow('Processed Gold ROI 2', binary_gold_roi2)\n",
    "cv2.imshow('Processed Towers 1', binary_towers1)\n",
    "cv2.imshow('Processed Towers 2', binary_towers2)\n",
    "cv2.waitKey(0)\n",
    "cv2.destroyAllWindows()"
   ]
  },
  {
   "cell_type": "code",
   "execution_count": null,
   "metadata": {},
   "outputs": [
    {
     "ename": "",
     "evalue": "",
     "output_type": "error",
     "traceback": [
      "\u001b[1;31mRunning cells with 'Python 3.10.11' requires the ipykernel package.\n",
      "\u001b[1;31mRun the following command to install 'ipykernel' into the Python environment. \n",
      "\u001b[1;31mCommand: 'c:/Users/caiog/AppData/Local/Microsoft/WindowsApps/python3.10.exe -m pip install ipykernel -U --user --force-reinstall'"
     ]
    }
   ],
   "source": [
    "reader = easyocr.Reader(['en'])\n",
    "\n",
    "def extract_text(image):\n",
    "    result = reader.readtext(image)\n",
    "    return result[0][1]\n"
   ]
  },
  {
   "cell_type": "code",
   "execution_count": null,
   "metadata": {},
   "outputs": [
    {
     "ename": "",
     "evalue": "",
     "output_type": "error",
     "traceback": [
      "\u001b[1;31mRunning cells with 'Python 3.10.11' requires the ipykernel package.\n",
      "\u001b[1;31mRun the following command to install 'ipykernel' into the Python environment. \n",
      "\u001b[1;31mCommand: 'c:/Users/caiog/AppData/Local/Microsoft/WindowsApps/python3.10.exe -m pip install ipykernel -U --user --force-reinstall'"
     ]
    }
   ],
   "source": [
    "\n",
    "\n",
    "gold_roi1 = cv2.imread('topbar/gold_roi1_processed.jpg')\n",
    "gold_roi2 = cv2.imread('topbar/gold_roi2_processed.jpg')\n",
    "towers1 = cv2.imread('topbar/towers1_processed.jpg')\n",
    "towers2 = cv2.imread('topbar/towers2_processed.jpg')\n",
    "dragons1 = cv2.imread('topbar/dragons1_processed.jpg')\n",
    "dragons2 = cv2.imread('topbar/dragons2_processed.jpg')\n",
    "\n",
    "\n",
    "text_gold_roi1 = extract_text(gold_roi1)\n",
    "text_gold_roi2 = extract_text(gold_roi2)\n",
    "text_towers1 = extract_text(towers1)\n",
    "text_towers2 = extract_text(towers2)\n",
    "text_dragons1 = extract_text(dragons1)\n",
    "text_dragons2 = extract_text(dragons2)\n",
    "\n",
    "\n",
    "\n",
    "\n",
    "\n",
    "\n",
    "# Print extracted text\n",
    "print(\"Text from Gold ROI 1:\")\n",
    "print(text_gold_roi1)\n",
    "\n",
    "print(\"\\nText from Gold ROI 2:\")\n",
    "print(text_gold_roi2)\n",
    "\n",
    "print(\"\\nText from Towers 1:\")\n",
    "print(text_towers1)\n",
    "\n",
    "print(\"\\nText from Towers 2:\")\n",
    "print(text_towers2)\n",
    "\n",
    "print(\"\\nText from Dragons 1:\") \n",
    "print(text_dragons1)\n",
    "\n",
    "print(\"\\nText from Dragons 2:\")\n",
    "print(text_dragons2)\n",
    "\n",
    "# print(\"\\nText from Top HUD:\")\n",
    "# print(text_topHud)"
   ]
  },
  {
   "cell_type": "code",
   "execution_count": null,
   "metadata": {},
   "outputs": [
    {
     "ename": "",
     "evalue": "",
     "output_type": "error",
     "traceback": [
      "\u001b[1;31mRunning cells with 'Python 3.10.11' requires the ipykernel package.\n",
      "\u001b[1;31mRun the following command to install 'ipykernel' into the Python environment. \n",
      "\u001b[1;31mCommand: 'c:/Users/caiog/AppData/Local/Microsoft/WindowsApps/python3.10.exe -m pip install ipykernel -U --user --force-reinstall'"
     ]
    }
   ],
   "source": []
  },
  {
   "cell_type": "code",
   "execution_count": null,
   "metadata": {},
   "outputs": [
    {
     "ename": "",
     "evalue": "",
     "output_type": "error",
     "traceback": [
      "\u001b[1;31mRunning cells with 'Python 3.10.11' requires the ipykernel package.\n",
      "\u001b[1;31mRun the following command to install 'ipykernel' into the Python environment. \n",
      "\u001b[1;31mCommand: 'c:/Users/caiog/AppData/Local/Microsoft/WindowsApps/python3.10.exe -m pip install ipykernel -U --user --force-reinstall'"
     ]
    }
   ],
   "source": []
  }
 ],
 "metadata": {
  "kernelspec": {
   "display_name": "Python 3",
   "language": "python",
   "name": "python3"
  },
  "language_info": {
   "codemirror_mode": {
    "name": "ipython",
    "version": 3
   },
   "file_extension": ".py",
   "mimetype": "text/x-python",
   "name": "python",
   "nbconvert_exporter": "python",
   "pygments_lexer": "ipython3",
   "version": "3.8.8"
  }
 },
 "nbformat": 4,
 "nbformat_minor": 2
}
