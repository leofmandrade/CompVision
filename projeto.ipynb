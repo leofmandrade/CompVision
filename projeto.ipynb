{
 "cells": [
  {
   "cell_type": "code",
   "execution_count": 1,
   "metadata": {},
   "outputs": [],
   "source": [
    "import cv2\n",
    "import ctypes\n",
    "import numpy as np\n",
    "import os\n",
    "import matplotlib.pyplot as plt\n",
    "from PIL import Image\n",
    "from scipy.stats import wasserstein_distance\n",
    "import matplotlib.pyplot as plt\n"
   ]
  },
  {
   "cell_type": "code",
   "execution_count": 2,
   "metadata": {},
   "outputs": [],
   "source": [
    "# Função para recortar e salvar a região delimitada\n",
    "def save_region(image, x, y, width, height, filename):\n",
    "    region = image[y:y+height, x:x+width]\n",
    "    cv2.imwrite(filename, region)"
   ]
  },
  {
   "cell_type": "code",
   "execution_count": 4,
   "metadata": {},
   "outputs": [
    {
     "name": "stdout",
     "output_type": "stream",
     "text": [
      "reshaped\n"
     ]
    }
   ],
   "source": [
    "# Get the screen resolution\n",
    "user32 = ctypes.windll.user32\n",
    "screen_width = user32.GetSystemMetrics(0)\n",
    "screen_height = user32.GetSystemMetrics(1)\n",
    "\n",
    "gameScene = 'img3.jpg'\n",
    "image = cv2.imread(gameScene)\n",
    "\n",
    "\n",
    "if image is not None:\n",
    "    # Resize the image to match the screen resolution\n",
    "    image = cv2.resize(image, (1300, 700))\n",
    "    print (\"reshaped\")\n",
    "else:\n",
    "    print(\"Error: Unable to load image\")\n",
    "\n",
    "widthChampionPic, heightChampionPic = 50, 48\n",
    "widthChampionIcon, heightChampionIcon = 30, 30"
   ]
  },
  {
   "cell_type": "code",
   "execution_count": 5,
   "metadata": {},
   "outputs": [],
   "source": [
    "color = (0, 0, 0)\n",
    "\n",
    "xChampionIcon1, yChampionIcon1 = 20, 100\n",
    "cv2.rectangle(image, (xChampionIcon1, yChampionIcon1), (xChampionIcon1 + widthChampionIcon, yChampionIcon1 + heightChampionIcon), color, 1)\n",
    "\n",
    "xChampionIcon2, yChampionIcon2 = 20, 167\n",
    "cv2.rectangle(image, (xChampionIcon2, yChampionIcon2), (xChampionIcon2 + widthChampionIcon, yChampionIcon2 + heightChampionIcon), color, 1)\n",
    "\n",
    "xChampionIcon3, yChampionIcon3 = 20, 234\n",
    "cv2.rectangle(image, (xChampionIcon3, yChampionIcon3), (xChampionIcon3 + widthChampionIcon, yChampionIcon3 + heightChampionIcon), color, 1)\n",
    "\n",
    "xChampionIcon4, yChampionIcon4 = 20, 300\n",
    "cv2.rectangle(image, (xChampionIcon4, yChampionIcon4), (xChampionIcon4 + widthChampionIcon, yChampionIcon4 + heightChampionIcon), color, 1)\n",
    "\n",
    "xChampionIcon5, yChampionIcon5 = 20, 367\n",
    "cv2.rectangle(image, (xChampionIcon5, yChampionIcon5), (xChampionIcon5 + widthChampionIcon, yChampionIcon5 + heightChampionIcon), color, 1)\n",
    "\n",
    "xChampionIcon6, yChampionIcon6 = 1250, 100\n",
    "cv2.rectangle(image, (xChampionIcon6, yChampionIcon6), (xChampionIcon6 + widthChampionIcon, yChampionIcon6 + heightChampionIcon), color, 1)\n",
    "\n",
    "xChampionIcon7, yChampionIcon7 = 1250, 167\n",
    "cv2.rectangle(image, (xChampionIcon7, yChampionIcon7), (xChampionIcon7 + widthChampionIcon, yChampionIcon7 + heightChampionIcon), color, 1)\n",
    "\n",
    "xChampionIcon8, yChampionIcon8 = 1250, 234\n",
    "cv2.rectangle(image, (xChampionIcon8, yChampionIcon8), (xChampionIcon8 + widthChampionIcon, yChampionIcon8 + heightChampionIcon), color, 1)\n",
    "\n",
    "xChampionIcon9, yChampionIcon9 = 1250, 300\n",
    "cv2.rectangle(image, (xChampionIcon9, yChampionIcon9), (xChampionIcon9 + widthChampionIcon, yChampionIcon9 + heightChampionIcon), color, 1)\n",
    "\n",
    "xChampionIcon10, yChampionIcon10 = 1250, 367\n",
    "cv2.rectangle(image, (xChampionIcon10, yChampionIcon10), (xChampionIcon10 + widthChampionIcon, yChampionIcon10 + heightChampionIcon), color, 1)\n",
    "\n",
    "cv2.imshow('Game Scene', image)\n",
    "cv2.waitKey(0)  # Wait indefinitely for a key press\n",
    "cv2.destroyAllWindows()  # Close all OpenCV windows"
   ]
  },
  {
   "cell_type": "code",
   "execution_count": 6,
   "metadata": {},
   "outputs": [],
   "source": [
    "save_region(image, xChampionIcon1, yChampionIcon1, widthChampionIcon, heightChampionIcon, 'champions/champion1.jpg')\n",
    "save_region(image, xChampionIcon2, yChampionIcon2, widthChampionIcon, heightChampionIcon, 'champions/champion2.jpg')\n",
    "save_region(image, xChampionIcon3, yChampionIcon3, widthChampionIcon, heightChampionIcon, 'champions/champion3.jpg')\n",
    "save_region(image, xChampionIcon4, yChampionIcon4, widthChampionIcon, heightChampionIcon, 'champions/champion4.jpg')\n",
    "save_region(image, xChampionIcon5, yChampionIcon5, widthChampionIcon, heightChampionIcon, 'champions/champion5.jpg')\n",
    "save_region(image, xChampionIcon6, yChampionIcon6, widthChampionIcon, heightChampionIcon, 'champions/champion6.jpg')\n",
    "save_region(image, xChampionIcon7, yChampionIcon7, widthChampionIcon, heightChampionIcon, 'champions/champion7.jpg')\n",
    "save_region(image, xChampionIcon8, yChampionIcon8, widthChampionIcon, heightChampionIcon, 'champions/champion8.jpg')\n",
    "save_region(image, xChampionIcon9, yChampionIcon9, widthChampionIcon, heightChampionIcon, 'champions/champion9.jpg')\n",
    "save_region(image, xChampionIcon10, yChampionIcon10, widthChampionIcon, heightChampionIcon, 'champions/champion10.jpg')"
   ]
  },
  {
   "cell_type": "code",
   "execution_count": null,
   "metadata": {},
   "outputs": [],
   "source": [
    "hudInferiorHeight, hudInferiorWidth = 145, 500\n",
    "color = (255, 0, 160)\n",
    "xHudInferior, yHudInferior = 405, 550\n",
    "cv2.rectangle(image, (xHudInferior, yHudInferior), (xHudInferior + hudInferiorWidth, yHudInferior + hudInferiorHeight), color, 2)\n",
    "\n",
    "widthChampionHud, heightChampionHud = 240, 25\n",
    "color = (150, 20, 200)\n",
    "xChampionHud1, yChampionHud1 = 410, 555\n",
    "cv2.rectangle(image, (xChampionHud1, yChampionHud1), (xChampionHud1 + widthChampionHud, yChampionHud1 + heightChampionHud), color, 2)\n",
    "\n",
    "xChampionHud2, yChampionHud2 = 410, 585\n",
    "cv2.rectangle(image, (xChampionHud2, yChampionHud2), (xChampionHud2 + widthChampionHud, yChampionHud2 + heightChampionHud), color, 2)\n",
    "\n",
    "xChampionHud3, yChampionHud3 = 410, 612\n",
    "cv2.rectangle(image, (xChampionHud3, yChampionHud3), (xChampionHud3 + widthChampionHud, yChampionHud3 + heightChampionHud), color, 2)\n",
    "\n",
    "xChampionHud4, yChampionHud4 = 410, 640\n",
    "cv2.rectangle(image, (xChampionHud4, yChampionHud4), (xChampionHud4 + widthChampionHud, yChampionHud4 + heightChampionHud), color, 2)\n",
    "\n",
    "xChampionHud5, yChampionHud5 = 410, 670\n",
    "cv2.rectangle(image, (xChampionHud5, yChampionHud5), (xChampionHud5 + widthChampionHud, yChampionHud5 + heightChampionHud), color, 2)\n",
    "\n",
    "xChampionHud6, yChampionHud6 = 660, 555\n",
    "cv2.rectangle(image, (xChampionHud6, yChampionHud6), (xChampionHud6 + widthChampionHud, yChampionHud6 + heightChampionHud), color, 2)\n",
    "\n",
    "xChampionHud7, yChampionHud7 = 660, 585\n",
    "cv2.rectangle(image, (xChampionHud7, yChampionHud7), (xChampionHud7 + widthChampionHud, yChampionHud7 + heightChampionHud), color, 2)\n",
    "\n",
    "xChampionHud8, yChampionHud8 = 660, 612\n",
    "cv2.rectangle(image, (xChampionHud8, yChampionHud8), (xChampionHud8 + widthChampionHud, yChampionHud8 + heightChampionHud), color, 2)\n",
    "\n",
    "xChampionHud9, yChampionHud9 = 660, 640\n",
    "cv2.rectangle(image, (xChampionHud9, yChampionHud9), (xChampionHud9 + widthChampionHud, yChampionHud9 + heightChampionHud), color, 2)\n",
    "\n",
    "xChampionHud10, yChampionHud10 = 660, 670\n",
    "cv2.rectangle(image, (xChampionHud10, yChampionHud10), (xChampionHud10 + widthChampionHud, yChampionHud10 + heightChampionHud), color, 2)\n",
    "\n",
    "widthMap, heightMap = 180, 177\n",
    "color = (150, 20, 200)\n",
    "xMap, yMap = 1115, 520\n",
    "cv2.rectangle(image, (xMap, yMap), (xMap + widthMap, yMap + heightMap), color, 2)\n",
    "\n",
    "cv2.imshow('Game Scene', image)\n",
    "cv2.waitKey(0)  # Wait indefinitely for a key press\n",
    "cv2.destroyAllWindows()  # Close all OpenCV windows"
   ]
  },
  {
   "cell_type": "code",
   "execution_count": null,
   "metadata": {},
   "outputs": [],
   "source": [
    "save_region(image, xHudInferior, yHudInferior, hudInferiorWidth, hudInferiorHeight, 'hud/hud_inferior.jpg')\n",
    "save_region(image, xChampionHud1, yChampionHud1, widthChampionHud, heightChampionHud, 'hud/champion_hud1.jpg')\n",
    "save_region(image, xChampionHud2, yChampionHud2, widthChampionHud, heightChampionHud, 'hud/champion_hud2.jpg')\n",
    "save_region(image, xChampionHud3, yChampionHud3, widthChampionHud, heightChampionHud, 'hud/champion_hud3.jpg')\n",
    "save_region(image, xChampionHud4, yChampionHud4, widthChampionHud, heightChampionHud, 'hud/champion_hud4.jpg')\n",
    "save_region(image, xChampionHud5, yChampionHud5, widthChampionHud, heightChampionHud, 'hud/champion_hud5.jpg')\n",
    "save_region(image, xChampionHud6, yChampionHud6, widthChampionHud, heightChampionHud, 'hud/champion_hud6.jpg')\n",
    "save_region(image, xChampionHud7, yChampionHud7, widthChampionHud, heightChampionHud, 'hud/champion_hud7.jpg')\n",
    "save_region(image, xChampionHud8, yChampionHud8, widthChampionHud, heightChampionHud, 'hud/champion_hud8.jpg')\n",
    "save_region(image, xChampionHud9, yChampionHud9, widthChampionHud, heightChampionHud, 'hud/champion_hud9.jpg')\n",
    "save_region(image, xChampionHud10, yChampionHud10, widthChampionHud, heightChampionHud, 'hud/champion_hud10.jpg')\n",
    "save_region(image, xMap, yMap, widthMap, heightMap, 'map/map.jpg')"
   ]
  },
  {
   "cell_type": "code",
   "execution_count": null,
   "metadata": {},
   "outputs": [],
   "source": [
    "# Função para carregar ícones da pasta\n",
    "def load_icons(icon_folder):\n",
    "    icons = {}\n",
    "    for filename in os.listdir(icon_folder):\n",
    "        character_name = filename.split('.')[0]\n",
    "        icon_path = os.path.join(icon_folder, filename)\n",
    "        icon = cv2.imread(icon_path, cv2.IMREAD_GRAYSCALE)\n",
    "        icons[character_name] = icon\n",
    "    return icons"
   ]
  },
  {
   "cell_type": "markdown",
   "metadata": {},
   "source": [
    "Earth Mover's Distance"
   ]
  },
  {
   "cell_type": "code",
   "execution_count": null,
   "metadata": {},
   "outputs": [],
   "source": [
    "def calculate_emd(hist1, hist2):\n",
    "    # Calculate the Earth Mover's Distance\n",
    "    emd_value = wasserstein_distance(hist1.ravel(), hist2.ravel())\n",
    "    return emd_value"
   ]
  },
  {
   "cell_type": "markdown",
   "metadata": {},
   "source": [
    "Euclidean Distance"
   ]
  },
  {
   "cell_type": "code",
   "execution_count": null,
   "metadata": {},
   "outputs": [],
   "source": [
    "def calculate_euclidean_distance(hist1, hist2):\n",
    "    # Flatten the histogram arrays and compute the Euclidean distance\n",
    "    return np.linalg.norm(hist1.ravel() - hist2.ravel())"
   ]
  },
  {
   "cell_type": "markdown",
   "metadata": {},
   "source": [
    "Compare and choose the lowest EMD"
   ]
  },
  {
   "cell_type": "code",
   "execution_count": null,
   "metadata": {},
   "outputs": [],
   "source": [
    "def EMD_comparison(folder1_path, folder2_path, common_width, common_height):\n",
    "    folder1_images = [f for f in os.listdir(folder1_path) if f.endswith('.jpg')]\n",
    "    folder2_images = [f for f in os.listdir(folder2_path) if f.endswith('.png')]\n",
    "\n",
    "    for image1_filename in folder1_images:\n",
    "        image1_path = os.path.join(folder1_path, image1_filename)\n",
    "        image1 = Image.open(image1_path)\n",
    "        image1_gray = image1.convert('L')\n",
    "        image1_gray_resized = image1_gray.resize((common_width, common_height))\n",
    "        hist1 = cv2.calcHist([np.array(image1_gray_resized)], [0], None, [256], [0, 256])\n",
    "\n",
    "        lowest_emd = float('inf')\n",
    "        closest_image_name = None\n",
    "        closest_hist2 = None\n",
    "        \n",
    "        for image2_filename in folder2_images:\n",
    "            image2_path = os.path.join(folder2_path, image2_filename)\n",
    "            image2 = Image.open(image2_path)\n",
    "            image2_gray = image2.convert('L')\n",
    "            image2_gray_resized = image2_gray.resize((common_width, common_height))\n",
    "            hist2 = cv2.calcHist([np.array(image2_gray_resized)], [0], None, [256], [0, 256])\n",
    "\n",
    "            emd_value = calculate_emd(hist1, hist2)\n",
    "            if emd_value < lowest_emd:\n",
    "                lowest_emd = emd_value\n",
    "                closest_image_name = os.path.splitext(image2_filename)[0]\n",
    "                closest_hist2 = hist2\n",
    "        # # Plotting the histograms\n",
    "        # plt.figure(figsize=(10, 4))\n",
    "        # plt.subplot(1, 2, 1)\n",
    "        # plt.plot(hist1, label='Raw Image')\n",
    "        # plt.title(f'Histogram for {image1_filename}')\n",
    "        # plt.xlabel('Pixel value')\n",
    "        # plt.ylabel('Frequency')\n",
    "        # plt.legend()\n",
    "\n",
    "        # plt.subplot(1, 2, 2)\n",
    "        # plt.plot(closest_hist2, label='Closest Match')\n",
    "        # plt.title(f'Histogram for {closest_image_name}')\n",
    "        # plt.xlabel('Pixel value')\n",
    "        # plt.ylabel('Frequency')\n",
    "        # plt.legend()\n",
    "        \n",
    "        # plt.show()\n",
    "\n",
    "        print(f\"Closest match for {image1_filename} is {closest_image_name} with EMD: {lowest_emd}\")"
   ]
  },
  {
   "cell_type": "markdown",
   "metadata": {},
   "source": [
    "Results "
   ]
  },
  {
   "cell_type": "code",
   "execution_count": null,
   "metadata": {},
   "outputs": [],
   "source": [
    "folder1_path = 'champions'  \n",
    "folder2_path = 'championIcons'  \n",
    "common_width = 50\n",
    "common_height = 50\n",
    "\n",
    "comparison_results = EMD_comparison(folder1_path, folder2_path, common_width, common_height)\n"
   ]
  },
  {
   "cell_type": "code",
   "execution_count": null,
   "metadata": {},
   "outputs": [],
   "source": [
    "def Euclidean_comparison(folder1_path, folder2_path, common_width, common_height):\n",
    "    folder1_images = [f for f in os.listdir(folder1_path) if f.endswith('.jpg')]\n",
    "    folder2_images = [f for f in os.listdir(folder2_path) if f.endswith('.png')]\n",
    "\n",
    "    for image1_filename in folder1_images:\n",
    "        image1_path = os.path.join(folder1_path, image1_filename)\n",
    "        image1 = Image.open(image1_path)\n",
    "        image1_gray = image1.convert('L')\n",
    "        image1_gray_resized = image1_gray.resize((common_width, common_height))\n",
    "        hist1 = cv2.calcHist([np.array(image1_gray_resized)], [0], None, [256], [0, 256])\n",
    "\n",
    "        lowest_emd = float('inf')\n",
    "        closest_image_name = None\n",
    "        closest_hist2 = None\n",
    "        \n",
    "        for image2_filename in folder2_images:\n",
    "            image2_path = os.path.join(folder2_path, image2_filename)\n",
    "            image2 = Image.open(image2_path)\n",
    "            image2_gray = image2.convert('L')\n",
    "            image2_gray_resized = image2_gray.resize((common_width, common_height))\n",
    "            hist2 = cv2.calcHist([np.array(image2_gray_resized)], [0], None, [256], [0, 256])\n",
    "\n",
    "            emd_value = calculate_euclidean_distance(hist1, hist2)\n",
    "            if emd_value < lowest_emd:\n",
    "                lowest_emd = emd_value\n",
    "                closest_image_name = os.path.splitext(image2_filename)[0]\n",
    "                closest_hist2 = hist2\n",
    "        # # Plotting the histograms\n",
    "        # plt.figure(figsize=(10, 4))\n",
    "        # plt.subplot(1, 2, 1)\n",
    "        # plt.plot(hist1, label='Raw Image')\n",
    "        # plt.title(f'Histogram for {image1_filename}')\n",
    "        # plt.xlabel('Pixel value')\n",
    "        # plt.ylabel('Frequency')\n",
    "        # plt.legend()\n",
    "\n",
    "        # plt.subplot(1, 2, 2)\n",
    "        # plt.plot(closest_hist2, label='Closest Match')\n",
    "        # plt.title(f'Histogram for {closest_image_name}')\n",
    "        # plt.xlabel('Pixel value')\n",
    "        # plt.ylabel('Frequency')\n",
    "        # plt.legend()\n",
    "        \n",
    "        # plt.show()\n",
    "\n",
    "        print(f\"Closest match for {image1_filename} is {closest_image_name} with Euclidean distance: {lowest_emd}\")"
   ]
  },
  {
   "cell_type": "code",
   "execution_count": null,
   "metadata": {},
   "outputs": [],
   "source": [
    "folder1_path = 'champions'  \n",
    "folder2_path = 'championIcons'  \n",
    "common_width = 50\n",
    "common_height = 50\n",
    "\n",
    "comparison_results = Euclidean_comparison(folder1_path, folder2_path, common_width, common_height)"
   ]
  },
  {
   "cell_type": "markdown",
   "metadata": {},
   "source": [
    "Trying pixel-by-pixel euclidean distance calculation."
   ]
  },
  {
   "cell_type": "code",
   "execution_count": 10,
   "metadata": {},
   "outputs": [],
   "source": [
    "def calculate_pixel_by_pixel_euclidean_distance(image1_array, image2_array):\n",
    "    distance = np.linalg.norm(image1_array - image2_array)\n",
    "    return distance"
   ]
  },
  {
   "cell_type": "code",
   "execution_count": 8,
   "metadata": {},
   "outputs": [],
   "source": [
    "\n",
    "def find_closest_image_match(image_path, folder_path, common_width, common_height):\n",
    "\n",
    "    image_to_compare = Image.open(image_path)\n",
    "    image_to_compare = image_to_compare.resize((common_width, common_height)).convert('RGB')\n",
    "    image_to_compare_array = np.array(image_to_compare)\n",
    "\n",
    "    return image_to_compare_array"
   ]
  },
  {
   "cell_type": "code",
   "execution_count": 11,
   "metadata": {},
   "outputs": [
    {
     "ename": "PermissionError",
     "evalue": "[Errno 13] Permission denied: 'C:\\\\Users\\\\FONSECA CERTO\\\\Desktop\\\\INSPER\\\\7SEMESTRE\\\\COMPUTERVISION\\\\CompVision\\\\championIcons'",
     "output_type": "error",
     "traceback": [
      "\u001b[1;31m---------------------------------------------------------------------------\u001b[0m",
      "\u001b[1;31mPermissionError\u001b[0m                           Traceback (most recent call last)",
      "Cell \u001b[1;32mIn[11], line 6\u001b[0m\n\u001b[0;32m      3\u001b[0m common_width \u001b[38;5;241m=\u001b[39m \u001b[38;5;241m100\u001b[39m  \u001b[38;5;66;03m# Define the common dimensions for comparison\u001b[39;00m\n\u001b[0;32m      4\u001b[0m common_height \u001b[38;5;241m=\u001b[39m \u001b[38;5;241m100\u001b[39m\n\u001b[1;32m----> 6\u001b[0m closest_match, distance \u001b[38;5;241m=\u001b[39m \u001b[43mfind_closest_image_match\u001b[49m\u001b[43m(\u001b[49m\u001b[43mimage_path\u001b[49m\u001b[43m,\u001b[49m\u001b[43m \u001b[49m\u001b[43mfolder_path\u001b[49m\u001b[43m,\u001b[49m\u001b[43m \u001b[49m\u001b[43mcommon_width\u001b[49m\u001b[43m,\u001b[49m\u001b[43m \u001b[49m\u001b[43mcommon_height\u001b[49m\u001b[43m)\u001b[49m\n\u001b[0;32m      7\u001b[0m \u001b[38;5;28mprint\u001b[39m(\u001b[38;5;124mf\u001b[39m\u001b[38;5;124m\"\u001b[39m\u001b[38;5;124mThe closest match to \u001b[39m\u001b[38;5;132;01m{\u001b[39;00mos\u001b[38;5;241m.\u001b[39mpath\u001b[38;5;241m.\u001b[39mbasename(image_path)\u001b[38;5;132;01m}\u001b[39;00m\u001b[38;5;124m is \u001b[39m\u001b[38;5;132;01m{\u001b[39;00mclosest_match\u001b[38;5;132;01m}\u001b[39;00m\u001b[38;5;124m with a Euclidean distance of \u001b[39m\u001b[38;5;132;01m{\u001b[39;00mdistance\u001b[38;5;132;01m}\u001b[39;00m\u001b[38;5;124m.\u001b[39m\u001b[38;5;124m\"\u001b[39m)\n",
      "Cell \u001b[1;32mIn[8], line 3\u001b[0m, in \u001b[0;36mfind_closest_image_match\u001b[1;34m(image_path, folder_path, common_width, common_height)\u001b[0m\n\u001b[0;32m      1\u001b[0m \u001b[38;5;28;01mdef\u001b[39;00m \u001b[38;5;21mfind_closest_image_match\u001b[39m(image_path, folder_path, common_width, common_height):\n\u001b[1;32m----> 3\u001b[0m     image_to_compare \u001b[38;5;241m=\u001b[39m \u001b[43mImage\u001b[49m\u001b[38;5;241;43m.\u001b[39;49m\u001b[43mopen\u001b[49m\u001b[43m(\u001b[49m\u001b[43mimage_path\u001b[49m\u001b[43m)\u001b[49m\n\u001b[0;32m      4\u001b[0m     image_to_compare \u001b[38;5;241m=\u001b[39m image_to_compare\u001b[38;5;241m.\u001b[39mresize((common_width, common_height))\u001b[38;5;241m.\u001b[39mconvert(\u001b[38;5;124m'\u001b[39m\u001b[38;5;124mRGB\u001b[39m\u001b[38;5;124m'\u001b[39m)\n\u001b[0;32m      5\u001b[0m     image_to_compare_array \u001b[38;5;241m=\u001b[39m np\u001b[38;5;241m.\u001b[39marray(image_to_compare)\n",
      "File \u001b[1;32mc:\\Python312\\Lib\\site-packages\\PIL\\Image.py:3277\u001b[0m, in \u001b[0;36mopen\u001b[1;34m(fp, mode, formats)\u001b[0m\n\u001b[0;32m   3274\u001b[0m     filename \u001b[38;5;241m=\u001b[39m os\u001b[38;5;241m.\u001b[39mpath\u001b[38;5;241m.\u001b[39mrealpath(os\u001b[38;5;241m.\u001b[39mfspath(fp))\n\u001b[0;32m   3276\u001b[0m \u001b[38;5;28;01mif\u001b[39;00m filename:\n\u001b[1;32m-> 3277\u001b[0m     fp \u001b[38;5;241m=\u001b[39m \u001b[43mbuiltins\u001b[49m\u001b[38;5;241;43m.\u001b[39;49m\u001b[43mopen\u001b[49m\u001b[43m(\u001b[49m\u001b[43mfilename\u001b[49m\u001b[43m,\u001b[49m\u001b[43m \u001b[49m\u001b[38;5;124;43m\"\u001b[39;49m\u001b[38;5;124;43mrb\u001b[39;49m\u001b[38;5;124;43m\"\u001b[39;49m\u001b[43m)\u001b[49m\n\u001b[0;32m   3278\u001b[0m     exclusive_fp \u001b[38;5;241m=\u001b[39m \u001b[38;5;28;01mTrue\u001b[39;00m\n\u001b[0;32m   3280\u001b[0m \u001b[38;5;28;01mtry\u001b[39;00m:\n",
      "\u001b[1;31mPermissionError\u001b[0m: [Errno 13] Permission denied: 'C:\\\\Users\\\\FONSECA CERTO\\\\Desktop\\\\INSPER\\\\7SEMESTRE\\\\COMPUTERVISION\\\\CompVision\\\\championIcons'"
     ]
    }
   ],
   "source": [
    "folder_path = 'champions'\n",
    "image_path = 'championIcons' \n",
    "common_width = 100  # Define the common dimensions for comparison\n",
    "common_height = 100\n",
    "\n",
    "closest_match, distance = find_closest_image_match(image_path, folder_path, common_width, common_height)\n",
    "print(f\"The closest match to {os.path.basename(image_path)} is {closest_match} with a Euclidean distance of {distance}.\")"
   ]
  },
  {
   "cell_type": "markdown",
   "metadata": {},
   "source": [
    "# GOLD"
   ]
  },
  {
   "cell_type": "code",
   "execution_count": null,
   "metadata": {},
   "outputs": [],
   "source": [
    "# Define coordinates and dimensions for gold rectangles\n",
    "xGold1, yGold1 = 750, 10\n",
    "widthGold, heightGold = 34, 13\n",
    "\n",
    "\n",
    "gold_roi1 = image[yGold1:yGold1+heightGold, xGold1:xGold1+widthGold]\n",
    "#resize the gold roi\n",
    "\n",
    "\n",
    "#save the gold roi img\n",
    "cv2.imwrite('gold_roi1.jpg', gold_roi1)\n",
    "\n",
    "\n",
    "#get gold_roi2\n",
    "xGold2, yGold2 = 545, 10\n",
    "gold_roi2 = image[yGold2:yGold2+heightGold, xGold2:xGold2+widthGold]\n",
    "cv2.imwrite('gold_roi2.jpg', gold_roi2) \n",
    "\n",
    "\n"
   ]
  },
  {
   "cell_type": "code",
   "execution_count": null,
   "metadata": {},
   "outputs": [],
   "source": [
    "image = cv2.imread('gold_roi1.jpg')\n",
    "\n",
    "# Increase contrast if needed\n",
    "# Convert to float to avoid clipping values\n",
    "image = image.astype(np.float32) / 255.0\n",
    "# Increase the contrast of the image\n",
    "image = cv2.pow(image, 1.2)\n",
    "# Clip values to the range [0, 1]\n",
    "image = np.clip(image, 0, 1)\n",
    "# Convert back to 8-bits\n",
    "image = (255 * image).astype(np.uint8)\n",
    "image = cv2.resize(image, None, fx=20, fy=20, interpolation=cv2.INTER_CUBIC)\n",
    "#raise brightness\n",
    "image = cv2.convertScaleAbs(image, alpha=1.5, beta=0)\n",
    "\n",
    "gray = cv2.cvtColor(image, cv2.COLOR_BGR2GRAY)\n",
    "\n",
    "\n",
    "#binarizar\n",
    "_, binary = cv2.threshold(gray, 90, 255, cv2.THRESH_BINARY)\n",
    "\n",
    "\n",
    "# # Thresholding\n",
    "\n",
    "\n",
    "# kernel = np.ones((3,3), np.uint8)\n",
    "# # binary = cv2.dilate(binary, kernel, iterations=1)\n",
    "# binary = cv2.erode(binary, kernel, iterations=2)\n",
    "\n",
    "# Save the processed image\n",
    "\n",
    "cv2.imwrite('gold_roi1_processed.jpg', binary)\n",
    "\n",
    "\n",
    "# Display the processed image\n",
    "cv2.imshow('Processed Gold ROI 1', binary)\n",
    "cv2.waitKey(0)\n",
    "cv2.destroyAllWindows()"
   ]
  },
  {
   "cell_type": "code",
   "execution_count": null,
   "metadata": {},
   "outputs": [],
   "source": [
    "image = cv2.imread('gold_roi2.jpg')\n",
    "\n",
    "# Increase contrast if needed\n",
    "# Convert to float to avoid clipping values\n",
    "image = image.astype(np.float32) / 255.0\n",
    "# Increase the contrast of the image\n",
    "image = cv2.pow(image, 1.2)\n",
    "# Clip values to the range [0, 1]\n",
    "image = np.clip(image, 0, 1)\n",
    "# Convert back to 8-bits\n",
    "image = (255 * image).astype(np.uint8)\n",
    "image = cv2.resize(image, None, fx=20, fy=20, interpolation=cv2.INTER_CUBIC)\n",
    "#raise brightness\n",
    "image = cv2.convertScaleAbs(image, alpha=1.5, beta=0)\n",
    "\n",
    "gray = cv2.cvtColor(image, cv2.COLOR_BGR2GRAY)\n",
    "\n",
    "\n",
    "\n",
    "#binarizar\n",
    "_, binary = cv2.threshold(gray, 80, 255, cv2.THRESH_BINARY)\n",
    "\n",
    "\n",
    "# # Thresholding\n",
    "\n",
    "\n",
    "# kernel = np.ones((3,3), np.uint8)\n",
    "# # binary = cv2.dilate(binary, kernel, iterations=1)\n",
    "# binary = cv2.erode(binary, kernel, iterations=2)\n",
    "\n",
    "# Save the processed image\n",
    "\n",
    "cv2.imwrite('gold_roi2_processed.jpg', binary)\n",
    "\n",
    "\n",
    "# Display the processed image\n",
    "cv2.imshow('Processed Gold ROI 2', binary)\n",
    "cv2.waitKey(0)\n",
    "cv2.destroyAllWindows()"
   ]
  },
  {
   "cell_type": "code",
   "execution_count": null,
   "metadata": {},
   "outputs": [],
   "source": [
    "import pytesseract\n",
    "\n",
    "# Path to Tesseract executable (change if necessary)\n",
    "pytesseract.pytesseract.tesseract_cmd = r'C:\\Program Files\\Tesseract-OCR\\tesseract.exe'\n",
    "\n",
    "gold_roi1 = cv2.imread('gold_roi1_processed.jpg')\n",
    "gold_roi2 = cv2.imread('gold_roi2_processed.jpg')\n",
    "#resize both to make bigger\n",
    "\n",
    "\n",
    "\n",
    "# Use Tesseract to extract text\n",
    "text_gold_roi1 = pytesseract.image_to_string(gold_roi1)\n",
    "text_gold_roi2 = pytesseract.image_to_string(gold_roi2)\n",
    "#text_topHud = pytesseract.image_to_string(topHud)\n",
    "\n",
    "\n",
    "# Print extracted text\n",
    "print(\"Text from Gold ROI 1:\")\n",
    "print(text_gold_roi1)\n",
    "\n",
    "print(\"\\nText from Gold ROI 2:\")\n",
    "print(text_gold_roi2)\n",
    "\n",
    "# print(\"\\nText from Top HUD:\")\n",
    "# print(text_topHud)"
   ]
  }
 ],
 "metadata": {
  "kernelspec": {
   "display_name": "Python 3",
   "language": "python",
   "name": "python3"
  },
  "language_info": {
   "codemirror_mode": {
    "name": "ipython",
    "version": 3
   },
   "file_extension": ".py",
   "mimetype": "text/x-python",
   "name": "python",
   "nbconvert_exporter": "python",
   "pygments_lexer": "ipython3",
   "version": "3.12.2"
  }
 },
 "nbformat": 4,
 "nbformat_minor": 2
}
