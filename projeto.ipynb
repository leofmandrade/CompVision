{
 "cells": [
  {
   "cell_type": "code",
   "execution_count": 4,
   "metadata": {},
   "outputs": [],
   "source": [
    "# get gameScene.jpg and show using cv2\n",
    "import cv2\n",
    "import numpy as np\n",
    "import requests\n",
    "import os\n",
    "import sys\n"
   ]
  },
  {
   "cell_type": "code",
   "execution_count": 34,
   "metadata": {},
   "outputs": [
    {
     "name": "stdout",
     "output_type": "stream",
     "text": [
      "reshaped\n"
     ]
    }
   ],
   "source": [
    "import ctypes\n",
    "\n",
    "# Get the screen resolution\n",
    "user32 = ctypes.windll.user32\n",
    "screen_width = user32.GetSystemMetrics(0)\n",
    "screen_height = user32.GetSystemMetrics(1)\n",
    "\n",
    "gameScene = 'img3.jpg'\n",
    "image = cv2.imread(gameScene)\n",
    "\n",
    "if image is not None:\n",
    "    # Resize the image to match the screen resolution\n",
    "    image = cv2.resize(image, (screen_width-50, screen_height-50))\n",
    "    print (\"reshaped\")\n",
    "else:\n",
    "    print(\"Error: Unable to load image\")\n",
    "\n",
    "\n",
    "\n",
    "xChampion1, yChampion1 = 0, 115\n",
    "widthChampionPic, heightChampionPic = 60, 55\n",
    "\n",
    "color = (0, 0, 255)\n",
    "cv2.rectangle(image, (xChampion1, yChampion1), (xChampion1 + widthChampionPic, yChampion1 + heightChampionPic), color, 2)\n",
    "\n",
    "# cv2show just the rectangle\n",
    "rectangle = image[yChampion1:yChampion1+heightChampionPic, xChampion1:xChampion1+widthChampionPic]\n",
    "cv2.imshow('Rectangle', rectangle)\n",
    "\n",
    "# xChampion2, yChampion2 = 17, 260\n",
    "# color = (0, 0, 255)\n",
    "# cv2.rectangle(image, (xChampion2, yChampion2), (xChampion2 + widthChampionPic, yChampion2 + heightChampionPic), color, 2)\n",
    "\n",
    "# xChampion3, yChampion3 = 17, 365\n",
    "# color = (0, 0, 255)\n",
    "# cv2.rectangle(image, (xChampion3, yChampion3), (xChampion3 + widthChampionPic, yChampion3 + heightChampionPic), color, 2)\n",
    "\n",
    "# xChampion4, yChampion4 = 17, 469\n",
    "# color = (0, 0, 255)\n",
    "# cv2.rectangle(image, (xChampion4, yChampion4), (xChampion4 + widthChampionPic, yChampion4 + heightChampionPic), color, 2)\n",
    "\n",
    "# xChampion5, yChampion5 = 17, 568\n",
    "# color = (0, 0, 255)\n",
    "# cv2.rectangle(image, (xChampion5, yChampion5), (xChampion5 + widthChampionPic, yChampion5 + heightChampionPic), color, 2)\n",
    "\n",
    "\n",
    "\n",
    "# xChampion6, yChampion6 = 1845, 155\n",
    "# color = (0, 0, 255)\n",
    "# cv2.rectangle(image, (xChampion6, yChampion6), (xChampion6 + widthChampionPic, yChampion6 + heightChampionPic), color, 2)\n",
    "\n",
    "# xChampion7, yChampion7 = 1845, 260\n",
    "# color = (0, 0, 255)\n",
    "# cv2.rectangle(image, (xChampion7, yChampion7), (xChampion7 + widthChampionPic, yChampion7 + heightChampionPic), color, 2)\n",
    "\n",
    "# xChampion8, yChampion8 = 1845, 365\n",
    "# color = (0, 0, 255)\n",
    "# cv2.rectangle(image, (xChampion8, yChampion8), (xChampion8 + widthChampionPic, yChampion8 + heightChampionPic), color, 2)\n",
    "\n",
    "# xChampion9, yChampion9 = 1845, 469\n",
    "# color = (0, 0, 255)\n",
    "# cv2.rectangle(image, (xChampion9, yChampion9), (xChampion9 + widthChampionPic, yChampion9 + heightChampionPic), color, 2)\n",
    "\n",
    "\n",
    "# xChampion10, yChampion10 = 1845, 568\n",
    "# color = (0, 0, 255)\n",
    "# cv2.rectangle(image, (xChampion10, yChampion10), (xChampion10 + widthChampionPic, yChampion10 + heightChampionPic), color, 2)\n",
    "\n",
    "\n",
    "cv2.imshow('Game Scene', image)\n",
    "cv2.waitKey(0)  # Wait indefinitely for a key press\n",
    "cv2.destroyAllWindows()  # Close all OpenCV windows"
   ]
  },
  {
   "cell_type": "code",
   "execution_count": 41,
   "metadata": {},
   "outputs": [],
   "source": [
    "lower_red = np.array([0, 0, 0])   # Lower bound for red in HSV\n",
    "upper_red = np.array([180, 100, 100])  # Upper bound for red in HSV\n",
    "\n",
    "# Define coordinates and dimensions for gold rectangles\n",
    "xGold1, yGold1 = 850, 5\n",
    "widthGold, heightGold = 50, 30\n",
    "gold_roi1 = image[yGold1:yGold1+heightGold, xGold1:xGold1+widthGold]\n",
    "#resize the gold roi\n",
    "gold_roi1 = cv2.resize(gold_roi1, (40, 40))\n",
    "\n",
    "# gold_roi1 = cv2.cvtColor(gold_roi1, cv2.COLOR_BGR2HSV)\n",
    "# mask = cv2.inRange(gold_roi1, lower_red, upper_red)\n",
    "# gold_roi1 = cv2.bitwise_and(gold_roi1, gold_roi1, mask=mask)\n",
    "# gold_roi1 = cv2.cvtColor(gold_roi1, cv2.COLOR_HSV2BGR)\n",
    "\n",
    "\n",
    "\n",
    "\n",
    "\n",
    "cv2.imshow('Gold ROI 1', gold_roi1)\n",
    "\n",
    "# cv2.imshow('Game Scene', resized_image)\n",
    "cv2.waitKey(0)\n",
    "cv2.destroyAllWindows()\n"
   ]
  },
  {
   "cell_type": "code",
   "execution_count": 42,
   "metadata": {},
   "outputs": [
    {
     "name": "stdout",
     "output_type": "stream",
     "text": [
      "Text from Gold ROI 1:\n",
      ")43,0k:\n",
      "\n"
     ]
    }
   ],
   "source": [
    "import pytesseract\n",
    "\n",
    "# Path to Tesseract executable (change if necessary)\n",
    "pytesseract.pytesseract.tesseract_cmd = r'C:\\Program Files\\Tesseract-OCR\\tesseract.exe'\n",
    "\n",
    "# Convert images to grayscale\n",
    "gray_gold_roi1 = cv2.cvtColor(gold_roi1, cv2.COLOR_BGR2GRAY)\n",
    "#topHud = cv2.cvtColor(topHud, cv2.COLOR_BGR2GRAY)\n",
    "\n",
    "\n",
    "\n",
    "# Use Tesseract to extract text\n",
    "text_gold_roi1 = pytesseract.image_to_string(gray_gold_roi1)\n",
    "#text_topHud = pytesseract.image_to_string(topHud)\n",
    "\n",
    "\n",
    "# Print extracted text\n",
    "print(\"Text from Gold ROI 1:\")\n",
    "print(text_gold_roi1)\n",
    "\n",
    "# print(\"\\nText from Top HUD:\")\n",
    "# print(text_topHud)"
   ]
  },
  {
   "cell_type": "code",
   "execution_count": null,
   "metadata": {},
   "outputs": [],
   "source": []
  },
  {
   "cell_type": "code",
   "execution_count": null,
   "metadata": {},
   "outputs": [],
   "source": []
  }
 ],
 "metadata": {
  "kernelspec": {
   "display_name": "Python 3",
   "language": "python",
   "name": "python3"
  },
  "language_info": {
   "codemirror_mode": {
    "name": "ipython",
    "version": 3
   },
   "file_extension": ".py",
   "mimetype": "text/x-python",
   "name": "python",
   "nbconvert_exporter": "python",
   "pygments_lexer": "ipython3",
   "version": "3.11.9"
  }
 },
 "nbformat": 4,
 "nbformat_minor": 2
}
